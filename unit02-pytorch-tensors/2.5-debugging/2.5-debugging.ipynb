{
 "cells": [
  {
   "cell_type": "code",
   "id": "d4663d8d-bbb1-4e32-916e-3d5e64d79fa9",
   "metadata": {
    "ExecuteTime": {
     "end_time": "2025-02-11T15:17:02.454105Z",
     "start_time": "2025-02-11T15:17:02.378937Z"
    }
   },
   "source": [
    "import random\n",
    "\n",
    "random.seed(123)\n",
    "\n",
    "b = 0.\n",
    "X = [[random.random() for _ in range(1000)] # 500 rows\n",
    "     for i in range(500)]\n",
    "w = [random.random() for _ in range(1000)]\n",
    "\n",
    "\n",
    "X[10][10] = 'a'"
   ],
   "outputs": [],
   "execution_count": 1
  },
  {
   "cell_type": "code",
   "id": "d8dfdf6a-bfbd-46e5-b542-f35bfe0c8abe",
   "metadata": {
    "ExecuteTime": {
     "end_time": "2025-02-11T15:20:06.833268Z",
     "start_time": "2025-02-11T15:20:06.827114Z"
    }
   },
   "source": [
    "def my_func(X, w, b):\n",
    "    outputs = []\n",
    "    for x in X:\n",
    "        output = b\n",
    "        for x_j, w_j in zip(x, w):\n",
    "            try:\n",
    "                  output += float(x_j) * float(w_j)\n",
    "            except ValueError:\n",
    "                 print(f\"Skipping non-numeric value: {x_j} or {w_j}\")\n",
    "                 continue  # Skip the current iteration if there's an error\n",
    "            outputs.append(output)\n",
    "    return outputs\n"
   ],
   "outputs": [],
   "execution_count": 10
  },
  {
   "cell_type": "code",
   "id": "276ef076-0134-46eb-a04d-d38c0e8b2b15",
   "metadata": {
    "ExecuteTime": {
     "end_time": "2025-02-11T15:20:09.299915Z",
     "start_time": "2025-02-11T15:20:09.148868Z"
    }
   },
   "source": [
    "r = my_func(X, w, b)"
   ],
   "outputs": [
    {
     "name": "stdout",
     "output_type": "stream",
     "text": [
      "Skipping non-numeric value: a or 0.10190626841302075\n"
     ]
    }
   ],
   "execution_count": 11
  },
  {
   "cell_type": "markdown",
   "id": "7149ad7f-349b-4062-9206-73c19baf9554",
   "metadata": {},
   "source": [
    "# Debugging with Print Statements"
   ]
  },
  {
   "cell_type": "code",
   "id": "98d18884-152b-4110-a2f6-124a42dba5ba",
   "metadata": {
    "ExecuteTime": {
     "end_time": "2025-02-11T15:20:13.148522Z",
     "start_time": "2025-02-11T15:20:13.143421Z"
    }
   },
   "source": [
    "def my_func(X, w, b):\n",
    "    outputs = []\n",
    "    for x in X:\n",
    "        output = b\n",
    "        for x_j, w_j in zip(x, w):\n",
    "            print(x_j, w_j)\n",
    "            output += x_j * w_j    \n",
    "        outputs.append(output)\n",
    "    return outputs"
   ],
   "outputs": [],
   "execution_count": 12
  },
  {
   "cell_type": "code",
   "id": "5637fa7d-b74d-4ad7-b5f2-5ee0e258818e",
   "metadata": {
    "ExecuteTime": {
     "end_time": "2025-02-11T15:20:17.646706Z",
     "start_time": "2025-02-11T15:20:17.642595Z"
    }
   },
   "source": [
    "# r = my_func(X, w, b)"
   ],
   "outputs": [],
   "execution_count": 13
  },
  {
   "cell_type": "markdown",
   "id": "e0bb9198-8738-4b47-a1dc-2de476838436",
   "metadata": {},
   "source": [
    "# Using PDB"
   ]
  },
  {
   "cell_type": "code",
   "id": "8acd92e7-1231-4f7d-a37e-57f884b4dbef",
   "metadata": {
    "ExecuteTime": {
     "end_time": "2025-02-11T15:20:19.296844Z",
     "start_time": "2025-02-11T15:20:19.291114Z"
    }
   },
   "source": [
    "def my_func(X, w, b):\n",
    "    outputs = []\n",
    "    for j, x in enumerate(X):\n",
    "        output = b\n",
    "        for i, (x_j, w_j) in enumerate(zip(x, w)):\n",
    "            #import pdb; pdb.set_trace()\n",
    "            try:\n",
    "                output += x_j * w_j\n",
    "            except:\n",
    "                import pdb; pdb.post_mortem()\n",
    "        outputs.append(output)\n",
    "    return outputs"
   ],
   "outputs": [],
   "execution_count": 14
  },
  {
   "cell_type": "code",
   "id": "6a105b61-ef62-4471-ab21-24e71f56f504",
   "metadata": {
    "ExecuteTime": {
     "end_time": "2025-02-11T15:21:22.511522Z",
     "start_time": "2025-02-11T15:21:20.977927Z"
    }
   },
   "source": [
    "r = my_func(X, w, b)"
   ],
   "outputs": [
    {
     "name": "stdout",
     "output_type": "stream",
     "text": [
      "> \u001B[0;32m/var/folders/ty/whb24__n017f25ylqth2gcd40000gn/T/ipykernel_3956/2391046760.py\u001B[0m(8)\u001B[0;36mmy_func\u001B[0;34m()\u001B[0m\n",
      "\u001B[0;32m      6 \u001B[0;31m            \u001B[0;31m#import pdb; pdb.set_trace()\u001B[0m\u001B[0;34m\u001B[0m\u001B[0;34m\u001B[0m\u001B[0m\n",
      "\u001B[0m\u001B[0;32m      7 \u001B[0;31m            \u001B[0;32mtry\u001B[0m\u001B[0;34m:\u001B[0m\u001B[0;34m\u001B[0m\u001B[0;34m\u001B[0m\u001B[0m\n",
      "\u001B[0m\u001B[0;32m----> 8 \u001B[0;31m                \u001B[0moutput\u001B[0m \u001B[0;34m+=\u001B[0m \u001B[0mx_j\u001B[0m \u001B[0;34m*\u001B[0m \u001B[0mw_j\u001B[0m\u001B[0;34m\u001B[0m\u001B[0;34m\u001B[0m\u001B[0m\n",
      "\u001B[0m\u001B[0;32m      9 \u001B[0;31m            \u001B[0;32mexcept\u001B[0m\u001B[0;34m:\u001B[0m\u001B[0;34m\u001B[0m\u001B[0;34m\u001B[0m\u001B[0m\n",
      "\u001B[0m\u001B[0;32m     10 \u001B[0;31m                \u001B[0;32mimport\u001B[0m \u001B[0mpdb\u001B[0m\u001B[0;34m;\u001B[0m \u001B[0mpdb\u001B[0m\u001B[0;34m.\u001B[0m\u001B[0mpost_mortem\u001B[0m\u001B[0;34m(\u001B[0m\u001B[0;34m)\u001B[0m\u001B[0;34m\u001B[0m\u001B[0;34m\u001B[0m\u001B[0m\n",
      "\u001B[0m\n",
      "--KeyboardInterrupt--\n",
      "\n",
      "KeyboardInterrupt: Interrupted by user\n"
     ]
    }
   ],
   "execution_count": 17
  },
  {
   "cell_type": "code",
   "id": "a136ba57-9058-4c1e-af9d-b01da9c27bc6",
   "metadata": {
    "ExecuteTime": {
     "end_time": "2025-02-11T15:21:25.061448Z",
     "start_time": "2025-02-11T15:21:25.041031Z"
    }
   },
   "source": [
    "X[10][10]"
   ],
   "outputs": [
    {
     "data": {
      "text/plain": [
       "'a'"
      ]
     },
     "execution_count": 18,
     "metadata": {},
     "output_type": "execute_result"
    }
   ],
   "execution_count": 18
  }
 ],
 "metadata": {
  "kernelspec": {
   "display_name": "Python 3 (ipykernel)",
   "language": "python",
   "name": "python3"
  },
  "language_info": {
   "codemirror_mode": {
    "name": "ipython",
    "version": 3
   },
   "file_extension": ".py",
   "mimetype": "text/x-python",
   "name": "python",
   "nbconvert_exporter": "python",
   "pygments_lexer": "ipython3",
   "version": "3.9.7"
  }
 },
 "nbformat": 4,
 "nbformat_minor": 5
}
