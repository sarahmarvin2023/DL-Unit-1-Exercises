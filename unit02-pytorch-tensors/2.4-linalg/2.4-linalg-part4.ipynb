{
 "cells": [
  {
   "cell_type": "markdown",
   "id": "f083e4aa-9159-433d-b26b-b21395c72e7c",
   "metadata": {},
   "source": [
    "# 2.4 Improving Code Efficiency with Linear Algebra"
   ]
  },
  {
   "cell_type": "markdown",
   "id": "e486d26d-ce2c-4865-8794-7f1f76838043",
   "metadata": {},
   "source": [
    "## Part 4: Broadcasting — Computations with Unequal Tensor Shapes"
   ]
  },
  {
   "cell_type": "code",
   "id": "b1584b82-1800-48e5-9966-c9abe98a3388",
   "metadata": {
    "ExecuteTime": {
     "end_time": "2025-02-11T15:16:41.765488Z",
     "start_time": "2025-02-11T15:16:39.901923Z"
    }
   },
   "source": [
    "import torch"
   ],
   "outputs": [],
   "execution_count": 1
  },
  {
   "cell_type": "code",
   "id": "a7ddc248-42a7-4769-a9f8-c1939b528af2",
   "metadata": {
    "ExecuteTime": {
     "end_time": "2025-02-11T15:16:42.545392Z",
     "start_time": "2025-02-11T15:16:42.536911Z"
    }
   },
   "source": [
    "a = torch.tensor([1.1, 2.1, 3.1, 4.1])\n",
    "\n",
    "b = torch.tensor([5.4, 5.5, 5.6, 5.7])\n",
    "\n",
    "a + b"
   ],
   "outputs": [
    {
     "data": {
      "text/plain": [
       "tensor([6.5000, 7.6000, 8.7000, 9.8000])"
      ]
     },
     "execution_count": 3,
     "metadata": {},
     "output_type": "execute_result"
    }
   ],
   "execution_count": 3
  },
  {
   "cell_type": "code",
   "id": "e34b95b0-5310-4906-9980-eb4c6c1f803d",
   "metadata": {
    "ExecuteTime": {
     "end_time": "2025-02-11T15:16:43.534546Z",
     "start_time": "2025-02-11T15:16:43.516207Z"
    }
   },
   "source": [
    "A = torch.tensor([[1.1, 2.1, 3.1, 4.1],\n",
    "                  [1.2, 2.2, 3.2, 4.2]])\n",
    "\n",
    "b = torch.tensor([5.4, 5.5, 5.6, 5.7])\n",
    "\n",
    "A + b"
   ],
   "outputs": [
    {
     "data": {
      "text/plain": [
       "tensor([[6.5000, 7.6000, 8.7000, 9.8000],\n",
       "        [6.6000, 7.7000, 8.8000, 9.9000]])"
      ]
     },
     "execution_count": 4,
     "metadata": {},
     "output_type": "execute_result"
    }
   ],
   "execution_count": 4
  },
  {
   "cell_type": "code",
   "execution_count": null,
   "id": "7dd2e2aa-be40-4dd8-a70e-913bfce86e5a",
   "metadata": {},
   "outputs": [],
   "source": []
  }
 ],
 "metadata": {
  "kernelspec": {
   "display_name": "Python 3 (ipykernel)",
   "language": "python",
   "name": "python3"
  },
  "language_info": {
   "codemirror_mode": {
    "name": "ipython",
    "version": 3
   },
   "file_extension": ".py",
   "mimetype": "text/x-python",
   "name": "python",
   "nbconvert_exporter": "python",
   "pygments_lexer": "ipython3",
   "version": "3.9.7"
  }
 },
 "nbformat": 4,
 "nbformat_minor": 5
}
